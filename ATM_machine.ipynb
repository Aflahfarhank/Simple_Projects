{
  "nbformat": 4,
  "nbformat_minor": 0,
  "metadata": {
    "colab": {
      "provenance": [],
      "authorship_tag": "ABX9TyOtSj65hybKLKTllvED275J",
      "include_colab_link": true
    },
    "kernelspec": {
      "name": "python3",
      "display_name": "Python 3"
    },
    "language_info": {
      "name": "python"
    }
  },
  "cells": [
    {
      "cell_type": "markdown",
      "metadata": {
        "id": "view-in-github",
        "colab_type": "text"
      },
      "source": [
        "<a href=\"https://colab.research.google.com/github/Aflahfarhank/Simple_Projects/blob/main/ATM_machine.ipynb\" target=\"_parent\"><img src=\"https://colab.research.google.com/assets/colab-badge.svg\" alt=\"Open In Colab\"/></a>"
      ]
    },
    {
      "cell_type": "markdown",
      "source": [
        "**Creating an ATM Machine System using OOPs Concepts**\n"
      ],
      "metadata": {
        "id": "Fn8IbrQ9wBRL"
      }
    },
    {
      "cell_type": "code",
      "source": [],
      "metadata": {
        "id": "-n1fHS5VwX5b"
      },
      "execution_count": null,
      "outputs": []
    },
    {
      "cell_type": "code",
      "execution_count": null,
      "metadata": {
        "id": "a_0jUKLXv3nJ"
      },
      "outputs": [],
      "source": [
        "class ATM:\n",
        "    def __init__(self, user_pin, balance=0):\n",
        "        self.user_pin = user_pin\n",
        "        self.balance = balance\n",
        "    def check_pin(self, pin):\n",
        "        return self.user_pin == pin\n",
        "\n",
        "    def check_balance(self):\n",
        "        print(f\"Your current balance is ₹{self.balance}\")\n",
        "\n",
        "    def deposit(self, amount):\n",
        "        if amount > 0:\n",
        "            self.balance += amount\n",
        "            print(f\"₹{amount} deposited successfully.\")\n",
        "        else:\n",
        "            print(\"Enter a valid amount.\")\n",
        "\n",
        "    def withdraw(self, amount):\n",
        "        if amount > self.balance:\n",
        "            print(\"Insufficient balance.\")\n",
        "        elif amount <= 0:\n",
        "            print(\"Enter a valid amount.\")\n",
        "        else:\n",
        "            self.balance -= amount\n",
        "            print(f\"₹{amount} withdrawn successfully.\")\n"
      ]
    },
    {
      "cell_type": "code",
      "source": [
        "def main():\n",
        "    atm = ATM(user_pin=\"1234\", balance=1000)\n",
        "\n",
        "    print(\"🔐 Welcome to Python ATM 🔐\")\n",
        "    pin = input(\"Enter your PIN: \")\n",
        "\n",
        "    if atm.check_pin(pin):\n",
        "        while True:\n",
        "            print(\"\\n--- MENU ---\")\n",
        "            print(\"1. Check Balance\")\n",
        "            print(\"2. Deposit\")\n",
        "            print(\"3. Withdraw\")\n",
        "            print(\"4. Exit\")\n",
        "            choice = input(\"Choose an option: \")\n",
        "\n",
        "            if choice == \"1\":\n",
        "                atm.check_balance()\n",
        "            elif choice == \"2\":\n",
        "                amt = float(input(\"Enter amount to deposit: ₹\"))\n",
        "                atm.deposit(amt)\n",
        "            elif choice == \"3\":\n",
        "                amt = float(input(\"Enter amount to withdraw: ₹\"))\n",
        "                atm.withdraw(amt)\n",
        "            elif choice == \"4\":\n",
        "                print(\"Thank you for using Python ATM. Goodbye!\")\n",
        "                break\n",
        "            else:\n",
        "                print(\"Invalid choice. Try again.\")\n",
        "    else:\n",
        "        print(\"❌ Incorrect PIN! Access denied.\")\n"
      ],
      "metadata": {
        "id": "fmAG3oRwwiGt"
      },
      "execution_count": null,
      "outputs": []
    },
    {
      "cell_type": "code",
      "source": [
        "if __name__ == \"__main__\":\n",
        "    main()\n"
      ],
      "metadata": {
        "colab": {
          "base_uri": "https://localhost:8080/"
        },
        "id": "EtCrLh0UwmZ6",
        "outputId": "7df5816a-c30b-401a-9a00-9c3394bf20a9"
      },
      "execution_count": null,
      "outputs": [
        {
          "output_type": "stream",
          "name": "stdout",
          "text": [
            "🔐 Welcome to Python ATM 🔐\n"
          ]
        }
      ]
    }
  ]
}